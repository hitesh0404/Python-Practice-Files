{
 "cells": [
  {
   "cell_type": "code",
   "execution_count": 12,
   "metadata": {},
   "outputs": [],
   "source": [
    "\n",
    "import re\n",
    "def rep(old):\n",
    "    old=str(old)\n",
    "    new='href=\" \\''+old[9:-13]+'\\' \"'\n",
    "    return  str(new)\n",
    "\n",
    "def re_str(address,pattern=r'''href=\"([^\"]*)\"'''):\n",
    "    with open(address,'r+') as file:\n",
    "        text = file.read()\n",
    "        new_text=''\n",
    "        count=0\n",
    "        extracted_re_iterable=re.finditer(pattern,text)\n",
    "        previous_end=0\n",
    "        for i in extracted_re_iterable:\n",
    "            count+=1\n",
    "            temp_to=rep(i.group())\n",
    "            new_text=new_text+text[previous_end:i.start()]+temp_to\n",
    "            previous_end=i.end()\n",
    "        new_text=new_text+text[previous_end:]\n",
    "        file.seek(0)\n",
    "        file.write(new_text)\n",
    "    return new_text\n",
    "\n",
    "\n"
   ]
  },
  {
   "cell_type": "code",
   "execution_count": 13,
   "metadata": {},
   "outputs": [
    {
     "data": {
      "text/plain": [
       "'{% load static %}\\n<!DOCTYPE html>\\n<html lang=\"en\">\\n<head>\\n    <link rel=\"stylesheet\" href=\" \\'\\'{% static \\'css/style.css\\' %}\\' \">\\n    <link href=\" \\'\\'https://cdn.jsdelivr.net/npm/bootstrap@5.3.3/dist/css/bootstrap.min.css\\' \" rel=\"stylesheet\" integrity=\"sha384-QWTKZyjpPEjISv5WaRU9OFeRpok6YctnYmDr5pNlyT2bRjXh0JMhjY6hW+ALEwIH\" crossorigin=\"anonymous\">\\n    <meta charset=\"UTF-8\">\\n    <meta name=\"viewport\" content=\"width=device-width, initial-scale=1.0\">\\n    <title>Document</title>\\n</head>\\n<body>\\n    <nav>\\n<nav\\n    class=\"navbar navbar-expand-sm navbar-dark bg-primary\"\\n>\\n    <a class=\"navbar-brand\" href=\" \\'\\'#\\' \">Navbar</a>\\n    <button\\n        class=\"navbar-toggler d-lg-none\"\\n        type=\"button\"\\n        data-bs-toggle=\"collapse\"\\n        data-bs-target=\"#collapsibleNavId\"\\n        aria-controls=\"collapsibleNavId\"\\n        aria-expanded=\"false\"\\n        aria-label=\"Toggle navigation\"\\n    ></button>\\n    <div class=\"collapse navbar-collapse\" id=\"collapsibleNavId\">\\n        <ul class=\"navbar-nav me-auto mt-2 mt-lg-0\">\\n            <li class=\"nav-item\">\\n                <a class=\"nav-link active\" href=\" \\'\\'/\\' \" aria-current=\"page\"\\n                    >Home <span class=\"visually-hidden\">(current)</span></a\\n                >\\n            </li>\\n           \\n            <li class=\"nav-item\">\\n                <a class=\"nav-link\" href=\" \\'\\'{% url \\'show-product\\' %}\\' \">Products</a>\\n            </li> <li class=\"nav-item\">\\n                <a class=\"nav-link\" href=\" \\'\\'{% url \\'add-product\\' %}\\' \">Add Products</a>\\n            </li>\\n            <li class=\"nav-item dropdown\">\\n                <a\\n                    class=\"nav-link dropdown-toggle\"\\n                    href=\" \\'\\'#\\' \"\\n                    id=\"dropdownId\"\\n                    data-bs-toggle=\"dropdown\"\\n                    aria-haspopup=\"true\"\\n                    aria-expanded=\"false\"\\n                    >Dropdown</a\\n                >\\n                <div class=\"dropdown-menu\" aria-labelledby=\"dropdownId\">\\n                    <a class=\"dropdown-item\" href=\" \\'\\'#\\' \">Action 1</a>\\n                    <a class=\"dropdown-item\" href=\" \\'\\'#\\' \">Action 2</a>\\n                </div>\\n            </li>\\n            <li>\\n                {%if request.user.is_authenticated %}\\n  \\t\\t\\t            <span>Hi {{ request.user.username | title }} {{ request.session.user_type}}</span>\\n  \\t\\t\\t            <a href=\" \\'\\'{% url \\'logout\\' %}\\' \" style=\"color: black;\">Logout</a>\\n  \\t\\t        {%else%}\\n  \\t\\t\\t            <a href=\" \\'\\'{% url \\'login\\' \\'login\\' %}\\' \" style=\"color: black;\">Login/</a>\\n  \\t\\t\\t            <a href=\" \\'\\'{% url \\'register\\' \\'register\\' %}\\' \" style=\"color: black;\">Register</a>\\n  \\t\\t        {%endif%}\\n            </li>\\n        </ul>\\n        <form class=\"d-flex my-2 my-lg-0\">\\n            <input\\n                class=\"form-control me-sm-2\"\\n                type=\"text\"\\n                placeholder=\"Search\"\\n            />\\n            <button class=\"btn btn-outline-success my-2 my-sm-0\" type=\"submit\">\\n                Search\\n            </button>\\n        </form>\\n    </div>\\n</nav>\\n\\n    </nav>\\n\\n\\n\\n\\n\\n\\n\\n\\n\\n\\n    <main>\\n{% block content %}\\n{% endblock %}\\n    </main>\\n    \\n    \\n    \\n    \\n    \\n    \\n    \\n    \\n    \\n    \\n   \\n\\n\\n    <div class=\"container-fluied my1 mt-auto py-3\">\\n        <!-- Footer -->\\n        <footer\\n                class=\"text-center text-lg-start text-white\"\\n                style=\"background-color: #3e4551\"\\n                >\\n          <!-- Grid container -->\\n          <div class=\"container p-4 pb-0\">\\n            <!-- Section: Links -->\\n            <section class=\"\">\\n              <!--Grid row-->\\n              <div class=\"row\">\\n                <!--Grid column-->\\n                <div class=\"col-lg-4 col-md-6 mb-4 mb-md-0\">\\n                  <h5 class=\"text-uppercase\">FOOTER CONTENT</h5>\\n      \\n                  <p>\\n                    Lorem ipsum dolor sit amet consectetur adipisicing elit.\\n                    Molestiae modi cum ipsam ad, illo possimus laborum ut\\n                    reiciendis obcaecati. Ducimus, quas. Corrupti, pariatur eaque?\\n                    Reiciendis assumenda iusto sapiente inventore animi?\\n                  </p>\\n                </div>\\n                <!--Grid column-->\\n      \\n                <!--Grid column-->\\n                <div class=\"col-lg-2 col-md-6 mb-4 mb-md-0\">\\n                  <h5 class=\"text-uppercase\">Links</h5>\\n      \\n                  <ul class=\"list-unstyled mb-0\">\\n                    <li>\\n                      <a href=\" \\'\\'#!\\' \" class=\"text-white\">Link 1</a>\\n                    </li>\\n                    <li>\\n                      <a href=\" \\'\\'#!\\' \" class=\"text-white\">Link 2</a>\\n                    </li>\\n                    <li>\\n                      <a href=\" \\'\\'#!\\' \" class=\"text-white\">Link 3</a>\\n                    </li>\\n                    <li>\\n                      <a href=\" \\'\\'#!\\' \" class=\"text-white\">Link 4</a>\\n                    </li>\\n                  </ul>\\n                </div>\\n                <!--Grid column-->\\n      \\n                <!--Grid column-->\\n                <div class=\"col-lg-2 col-md-6 mb-4 mb-md-0\">\\n                  <h5 class=\"text-uppercase\">Links</h5>\\n      \\n                  <ul class=\"list-unstyled mb-0\">\\n                    <li>\\n                      <a href=\" \\'\\'#!\\' \" class=\"text-white\">Link 1</a>\\n                    </li>\\n                    <li>\\n                      <a href=\" \\'\\'#!\\' \" class=\"text-white\">Link 2</a>\\n                    </li>\\n                    <li>\\n                      <a href=\" \\'\\'#!\\' \" class=\"text-white\">Link 3</a>\\n                    </li>\\n                    <li>\\n                      <a href=\" \\'\\'#!\\' \" class=\"text-white\">Link 4</a>\\n                    </li>\\n                  </ul>\\n                </div>\\n                <!--Grid column-->\\n      \\n                <!--Grid column-->\\n                <div class=\"col-lg-2 col-md-6 mb-4 mb-md-0\">\\n                  <h5 class=\"text-uppercase\">Links</h5>\\n      \\n                  <ul class=\"list-unstyled mb-0\">\\n                    <li>\\n                      <a href=\" \\'\\'#!\\' \" class=\"text-white\">Link 1</a>\\n                    </li>\\n                    <li>\\n                      <a href=\" \\'\\'#!\\' \" class=\"text-white\">Link 2</a>\\n                    </li>\\n                    <li>\\n                      <a href=\" \\'\\'#!\\' \" class=\"text-white\">Link 3</a>\\n                    </li>\\n                    <li>\\n                      <a href=\" \\'\\'#!\\' \" class=\"text-white\">Link 4</a>\\n                    </li>\\n                  </ul>\\n                </div>\\n                <!--Grid column-->\\n      \\n                <!--Grid column-->\\n                <div class=\"col-lg-2 col-md-6 mb-4 mb-md-0\">\\n                  <h5 class=\"text-uppercase\">Links</h5>\\n      \\n                  <ul class=\"list-unstyled mb-0\">\\n                    <li>\\n                      <a href=\" \\'\\'#!\\' \" class=\"text-white\">Link 1</a>\\n                    </li>\\n                    <li>\\n                      <a href=\" \\'\\'#!\\' \" class=\"text-white\">Link 2</a>\\n                    </li>\\n                    <li>\\n                      <a href=\" \\'\\'#!\\' \" class=\"text-white\">Link 3</a>\\n                    </li>\\n                    <li>\\n                      <a href=\" \\'\\'#!\\' \" class=\"text-white\">Link 4</a>\\n                    </li>\\n                  </ul>\\n                </div>\\n                <!--Grid column-->\\n              </div>\\n              <!--Grid row-->\\n            </section>\\n            <!-- Section: Links -->\\n      \\n            <hr class=\"mb-4\" />\\n      \\n            <!-- Section: CTA -->\\n            <section class=\"\">\\n              <p class=\"d-flex justify-content-center align-items-center\">\\n                <span class=\"me-3\">Register for free</span>\\n                <button type=\"button\" class=\"btn btn-outline-light btn-rounded\">\\n                  Sign up!\\n                </button>\\n              </p>\\n            </section>\\n            <!-- Section: CTA -->\\n      \\n            <hr class=\"mb-4\" />\\n      \\n            <!-- Section: Social media -->\\n            <section class=\"mb-4 text-center\">\\n              <!-- Facebook -->\\n              <a\\n                 class=\"btn btn-outline-light btn-floating m-1\"\\n                 href=\" \\'\\'#!\\' \"\\n                 role=\"button\"\\n                 ><i class=\"fab fa-facebook-f\"></i\\n                ></a>\\n      \\n              <!-- Twitter -->\\n              <a\\n                 class=\"btn btn-outline-light btn-floating m-1\"\\n                 href=\" \\'\\'#!\\' \"\\n                 role=\"button\"\\n                 ><i class=\"fab fa-twitter\"></i\\n                ></a>\\n      \\n              <!-- Google -->\\n              <a\\n                 class=\"btn btn-outline-light btn-floating m-1\"\\n                 href=\" \\'\\'#!\\' \"\\n                 role=\"button\"\\n                 ><i class=\"fab fa-google\"></i\\n                ></a>\\n      \\n              <!-- Instagram -->\\n              <a\\n                 class=\"btn btn-outline-light btn-floating m-1\"\\n                 href=\" \\'\\'#!\\' \"\\n                 role=\"button\"\\n                 ><i class=\"fab fa-instagram\"></i\\n                ></a>\\n      \\n              <!-- Linkedin -->\\n              <a\\n                 class=\"btn btn-outline-light btn-floating m-1\"\\n                 href=\" \\'\\'#!\\' \"\\n                 role=\"button\"\\n                 ><i class=\"fab fa-linkedin-in\"></i\\n                ></a>\\n      \\n              <!-- Github -->\\n              <a\\n                 class=\"btn btn-outline-light btn-floating m-1\"\\n                 href=\" \\'\\'#!\\' \"\\n                 role=\"button\"\\n                 ><i class=\"fab fa-github\"></i\\n                ></a>\\n            </section>\\n            <!-- Section: Social media -->\\n          </div>\\n          <!-- Grid container -->\\n      \\n          <!-- Copyright -->\\n          <div\\n               class=\"text-center p-3\"\\n               style=\"background-color: rgba(0, 0, 0, 0.2)\"\\n               >\\n            Â© 2020 Copyright:\\n            <a class=\"text-white\" href=\" \\'\\'https://mdbootstrap.com/\\' \"\\n               >MDBootstrap.com</a\\n              >\\n          </div>\\n          <!-- Copyright -->\\n        </footer>\\n        <!-- Footer -->\\n      </div>\\n    \\n    <script src=\"https://cdn.jsdelivr.net/npm/@popperjs/core@2.11.8/dist/umd/popper.min.js\" integrity=\"sha384-I7E8VVD/ismYTF4hNIPjVp/Zjvgyol6VFvRkX/vR+Vc4jQkC+hVqc2pM8ODewa9r\" crossorigin=\"anonymous\"></script>\\n<script src=\"https://cdn.jsdelivr.net/npm/bootstrap@5.3.3/dist/js/bootstrap.min.js\" integrity=\"sha384-0pUGZvbkm6XF6gxjEnlmuGrJXVbNuzT9qBBavbLwCsOGabYfZo0T0to5eqruptLy\" crossorigin=\"anonymous\"></script>\\n</body>\\n</html>rc=\"https://cdn.jsdelivr.net/npm/bootstrap@5.3.3/dist/js/bootstrap.min.js\" integrity=\"sha384-0pUGZvbkm6XF6gxjEnlmuGrJXVbNuzT9qBBavbLwCsOGabYfZo0T0to5eqruptLy\" crossorigin=\"anonymous\"></script>\\n</body>\\n</html>nymous\"></script>\\n</body>\\n</html>'"
      ]
     },
     "execution_count": 13,
     "metadata": {},
     "output_type": "execute_result"
    }
   ],
   "source": [
    "re_str('base.html')"
   ]
  },
  {
   "cell_type": "code",
   "execution_count": null,
   "metadata": {},
   "outputs": [],
   "source": []
  }
 ],
 "metadata": {
  "kernelspec": {
   "display_name": "Python 3",
   "language": "python",
   "name": "python3"
  },
  "language_info": {
   "codemirror_mode": {
    "name": "ipython",
    "version": 3
   },
   "file_extension": ".py",
   "mimetype": "text/x-python",
   "name": "python",
   "nbconvert_exporter": "python",
   "pygments_lexer": "ipython3",
   "version": "3.12.3"
  }
 },
 "nbformat": 4,
 "nbformat_minor": 2
}
